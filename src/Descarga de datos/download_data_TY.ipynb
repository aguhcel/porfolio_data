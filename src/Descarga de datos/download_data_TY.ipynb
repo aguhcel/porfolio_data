{
 "cells": [
  {
   "attachments": {},
   "cell_type": "markdown",
   "metadata": {},
   "source": [
    "# 1.Trabajando con API's"
   ]
  },
  {
   "attachments": {},
   "cell_type": "markdown",
   "metadata": {},
   "source": [
    "La intención de este notebook es la de trabajar con API's, en este caso, para la descarga de información para su posterior analisis."
   ]
  },
  {
   "cell_type": "code",
   "execution_count": 1,
   "metadata": {},
   "outputs": [],
   "source": [
    "# Importando las librerias\n",
    "import requests\n",
    "import pandas as pd\n",
    "import time"
   ]
  },
  {
   "cell_type": "code",
   "execution_count": 4,
   "metadata": {},
   "outputs": [],
   "source": [
    "# Parametros para usar el API DE YT\n",
    "# Amable recordatorio de siempre revisar esta pagina para crear la API}\n",
    "# https://www.slickremix.com/docs/get-api-key-for-youtube/\n",
    "# https://console.cloud.google.com/project\n",
    "# XXXXXXXXXXXXXXXXXXXXXXXXXXXXXXXXXXXXX\n",
    "\n",
    "API_KEY = 'XXXXXXXXXXXXXXXXXXXXXXXXXXXXXXXXXXXXX'\n",
    "CHANNEL_ID = 'UCBNvm8XDKtQhoi6usy4HXAw'"
   ]
  },
  {
   "cell_type": "code",
   "execution_count": 5,
   "metadata": {},
   "outputs": [],
   "source": [
    "# Prueba de la API\n",
    "response = requests.get('https://api.github.com').json()"
   ]
  },
  {
   "cell_type": "code",
   "execution_count": 6,
   "metadata": {},
   "outputs": [
    {
     "data": {
      "text/plain": [
       "{'current_user_url': 'https://api.github.com/user',\n",
       " 'current_user_authorizations_html_url': 'https://github.com/settings/connections/applications{/client_id}',\n",
       " 'authorizations_url': 'https://api.github.com/authorizations',\n",
       " 'code_search_url': 'https://api.github.com/search/code?q={query}{&page,per_page,sort,order}',\n",
       " 'commit_search_url': 'https://api.github.com/search/commits?q={query}{&page,per_page,sort,order}',\n",
       " 'emails_url': 'https://api.github.com/user/emails',\n",
       " 'emojis_url': 'https://api.github.com/emojis',\n",
       " 'events_url': 'https://api.github.com/events',\n",
       " 'feeds_url': 'https://api.github.com/feeds',\n",
       " 'followers_url': 'https://api.github.com/user/followers',\n",
       " 'following_url': 'https://api.github.com/user/following{/target}',\n",
       " 'gists_url': 'https://api.github.com/gists{/gist_id}',\n",
       " 'hub_url': 'https://api.github.com/hub',\n",
       " 'issue_search_url': 'https://api.github.com/search/issues?q={query}{&page,per_page,sort,order}',\n",
       " 'issues_url': 'https://api.github.com/issues',\n",
       " 'keys_url': 'https://api.github.com/user/keys',\n",
       " 'label_search_url': 'https://api.github.com/search/labels?q={query}&repository_id={repository_id}{&page,per_page}',\n",
       " 'notifications_url': 'https://api.github.com/notifications',\n",
       " 'organization_url': 'https://api.github.com/orgs/{org}',\n",
       " 'organization_repositories_url': 'https://api.github.com/orgs/{org}/repos{?type,page,per_page,sort}',\n",
       " 'organization_teams_url': 'https://api.github.com/orgs/{org}/teams',\n",
       " 'public_gists_url': 'https://api.github.com/gists/public',\n",
       " 'rate_limit_url': 'https://api.github.com/rate_limit',\n",
       " 'repository_url': 'https://api.github.com/repos/{owner}/{repo}',\n",
       " 'repository_search_url': 'https://api.github.com/search/repositories?q={query}{&page,per_page,sort,order}',\n",
       " 'current_user_repositories_url': 'https://api.github.com/user/repos{?type,page,per_page,sort}',\n",
       " 'starred_url': 'https://api.github.com/user/starred{/owner}{/repo}',\n",
       " 'starred_gists_url': 'https://api.github.com/gists/starred',\n",
       " 'topic_search_url': 'https://api.github.com/search/topics?q={query}{&page,per_page}',\n",
       " 'user_url': 'https://api.github.com/users/{user}',\n",
       " 'user_organizations_url': 'https://api.github.com/user/orgs',\n",
       " 'user_repositories_url': 'https://api.github.com/users/{user}/repos{?type,page,per_page,sort}',\n",
       " 'user_search_url': 'https://api.github.com/search/users?q={query}{&page,per_page,sort,order}'}"
      ]
     },
     "execution_count": 6,
     "metadata": {},
     "output_type": "execute_result"
    }
   ],
   "source": [
    "# Si se imprime información vamos por buen camino\n",
    "response"
   ]
  },
  {
   "attachments": {},
   "cell_type": "markdown",
   "metadata": {},
   "source": [
    "## 1.1 Llamada a la API"
   ]
  },
  {
   "attachments": {},
   "cell_type": "markdown",
   "metadata": {},
   "source": [
    "La estructura de la URL para consultar la data de YT es la siguiente\n",
    "\n",
    "'https://www.googleapis.com/youtube/v3/search?key='+**API_KEY**+\"&channelId=\"+**CHANNEL_ID**+\"&part=snippet,id&order=date&maxResults=10000\"\n",
    "\n",
    "* API_KEY es la key que se genero anteriormente\n",
    "\n",
    "* CHANNEL_ID del canal objetivo\n",
    "\n",
    "Para más información, consultar la documentación oficial: https://developers.google.com/youtube/v3/docs/search"
   ]
  },
  {
   "cell_type": "code",
   "execution_count": 45,
   "metadata": {},
   "outputs": [],
   "source": [
    "# en este caso me interesa buscar la información del canal de Dross\n",
    "# el CHANNEL_ID es el siguiente UCNYW2vfGrUE6R5mIJYzkRyQ\n",
    "# en la parte de Results=10000 estamos pidiendo la informacion de los 10000 videos subidos (en donde espero que no exista gente loca que suba tantos videos)\n",
    "\n",
    "channel_objetive = 'UCNYW2vfGrUE6R5mIJYzkRyQ'\n",
    "pageToken = ''\n",
    "\n",
    "url = 'https://www.googleapis.com/youtube/v3/search?key='+API_KEY+'&channelId='+channel_objetive+'&part=snippet,id&order=date&maxResults=10000'+pageToken"
   ]
  },
  {
   "cell_type": "code",
   "execution_count": 38,
   "metadata": {},
   "outputs": [],
   "source": [
    "# Verificamos si hay respuesta con los datos necesarios\n",
    "response = requests.get(url=url).json()"
   ]
  },
  {
   "cell_type": "code",
   "execution_count": 39,
   "metadata": {},
   "outputs": [
    {
     "data": {
      "text/plain": [
       "dict"
      ]
     },
     "execution_count": 39,
     "metadata": {},
     "output_type": "execute_result"
    }
   ],
   "source": [
    "# Observamos que los datos se encuentran en forma de diccionario\n",
    "\n",
    "type(response)"
   ]
  },
  {
   "cell_type": "code",
   "execution_count": 40,
   "metadata": {},
   "outputs": [
    {
     "data": {
      "text/plain": [
       "dict_keys(['kind', 'etag', 'nextPageToken', 'regionCode', 'pageInfo', 'items'])"
      ]
     },
     "execution_count": 40,
     "metadata": {},
     "output_type": "execute_result"
    }
   ],
   "source": [
    "response.keys()"
   ]
  },
  {
   "cell_type": "code",
   "execution_count": 52,
   "metadata": {},
   "outputs": [
    {
     "data": {
      "text/plain": [
       "{'kind': 'youtube#searchResult',\n",
       " 'etag': 'M9MajbaBwwFeSDqPHp0WBOo5iU0',\n",
       " 'id': {'kind': 'youtube#video', 'videoId': 'cFlk_Rd1DGg'},\n",
       " 'snippet': {'publishedAt': '2023-02-22T02:00:01Z',\n",
       "  'channelId': 'UCNYW2vfGrUE6R5mIJYzkRyQ',\n",
       "  'title': 'TOP: Las 7 personas de Twitch más...',\n",
       "  'description': 'Si el video te gusta, yo valoraría muchísimo que le dieras like, y que comentaras algo. ¡Gracias! ❤ #twitch.',\n",
       "  'thumbnails': {'default': {'url': 'https://i.ytimg.com/vi/cFlk_Rd1DGg/default.jpg',\n",
       "    'width': 120,\n",
       "    'height': 90},\n",
       "   'medium': {'url': 'https://i.ytimg.com/vi/cFlk_Rd1DGg/mqdefault.jpg',\n",
       "    'width': 320,\n",
       "    'height': 180},\n",
       "   'high': {'url': 'https://i.ytimg.com/vi/cFlk_Rd1DGg/hqdefault.jpg',\n",
       "    'width': 480,\n",
       "    'height': 360}},\n",
       "  'channelTitle': 'DrossRotzank',\n",
       "  'liveBroadcastContent': 'none',\n",
       "  'publishTime': '2023-02-22T02:00:01Z'}}"
      ]
     },
     "execution_count": 52,
     "metadata": {},
     "output_type": "execute_result"
    }
   ],
   "source": [
    "# Se observa el formato JSON del ultimo video subido por Dross\n",
    "\n",
    "response['items'][0]"
   ]
  },
  {
   "attachments": {},
   "cell_type": "markdown",
   "metadata": {},
   "source": [
    "## 1.2 Seleccionando informacion"
   ]
  },
  {
   "attachments": {},
   "cell_type": "markdown",
   "metadata": {},
   "source": [
    "Apartir del JSON generado, es posible seleccionar determinada información, deacuerdo a las necesidades que se requieran"
   ]
  },
  {
   "cell_type": "code",
   "execution_count": 53,
   "metadata": {
    "slideshow": {
     "slide_type": "slide"
    }
   },
   "outputs": [
    {
     "name": "stdout",
     "output_type": "stream",
     "text": [
      "ID del video: cFlk_Rd1DGg\n",
      "Titulo del video: TOP: Las 7 personas de Twitch más...\n",
      "Fecha de subida: 2023-02-22\n"
     ]
    }
   ],
   "source": [
    "# Obtenemos el Id, titulo y fecha de subida del ultimo video publicado por Dross\n",
    "\n",
    "video_id = response['items'][0]['id']['videoId']\n",
    "\n",
    "video_title = response['items'][0]['snippet']['title']\n",
    "video_title = str(video_title).replace('&amp;', '')\n",
    "\n",
    "upload_date = response['items'][0]['snippet']['publishedAt']\n",
    "upload_date = str(upload_date).split('T')[0]\n",
    "\n",
    "print(f'''ID del video: {video_id}\n",
    "Titulo del video: {video_title}\n",
    "Fecha de subida: {upload_date}''')\n"
   ]
  },
  {
   "attachments": {},
   "cell_type": "markdown",
   "metadata": {},
   "source": [
    "## 1.3 Recolección de información"
   ]
  },
  {
   "cell_type": "code",
   "execution_count": 70,
   "metadata": {},
   "outputs": [
    {
     "name": "stdout",
     "output_type": "stream",
     "text": [
      "ID del video: A_aX6kYVOTI\n",
      "Titulo del video: El horripilante hallazgo de Gary McKinnon, el hombre que HACKEÓ AL PENTÁGONO Y LO TRATARON DE MATAR\n",
      "Fecha de subida: 2022-09-21\n",
      "Vistas: 2384328\n",
      "Likes: 176258\n",
      "Comentarios: 5410\n",
      "\n"
     ]
    }
   ],
   "source": [
    "for info_video in response['items']:\n",
    "    # Verificamos que todos los resultados sean videos\n",
    "    if info_video['id']['kind'] == 'youtube#video':\n",
    "        video_id = info_video['id']['videoId']\n",
    "\n",
    "        video_title = info_video['snippet']['title']\n",
    "        video_title = str(video_title).replace('&amp;', '')\n",
    "\n",
    "        upload_date = info_video['snippet']['publishedAt']\n",
    "        upload_date = str(upload_date).split('T')[0]\n",
    "        \n",
    "        url_video_stats = \"https://www.googleapis.com/youtube/v3/videos?id=\"+video_id+\"&part=statistics&key=\"+API_KEY\n",
    "        response_video_stats = requests.get(url_video_stats).json()\n",
    "        \n",
    "        view_count = response_video_stats['items'][0]['statistics']['viewCount']\n",
    "        like_count = response_video_stats['items'][0]['statistics']['likeCount']\n",
    "        comment_count = response_video_stats['items'][0]['statistics']['commentCount']\n",
    "        \n",
    "\n",
    "print(f'''ID del video: {video_id}\n",
    "Titulo del video: {video_title}\n",
    "Fecha de subida: {upload_date}\n",
    "Vistas: {view_count}\n",
    "Likes: {like_count}\n",
    "Comentarios: {comment_count}\\n''')\n",
    "\n"
   ]
  }
 ],
 "metadata": {
  "kernelspec": {
   "display_name": "venv",
   "language": "python",
   "name": "python3"
  },
  "language_info": {
   "codemirror_mode": {
    "name": "ipython",
    "version": 3
   },
   "file_extension": ".py",
   "mimetype": "text/x-python",
   "name": "python",
   "nbconvert_exporter": "python",
   "pygments_lexer": "ipython3",
   "version": "3.10.6"
  },
  "orig_nbformat": 4,
  "vscode": {
   "interpreter": {
    "hash": "325a8389951b364615fbcd239229511685fac336d392465388ba66be57876462"
   }
  }
 },
 "nbformat": 4,
 "nbformat_minor": 2
}
