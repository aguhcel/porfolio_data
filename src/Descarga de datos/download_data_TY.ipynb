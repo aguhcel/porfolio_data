{
 "cells": [
  {
   "attachments": {},
   "cell_type": "markdown",
   "metadata": {},
   "source": [
    "# 1.Trabajando con API's"
   ]
  },
  {
   "attachments": {},
   "cell_type": "markdown",
   "metadata": {},
   "source": [
    "La intención de este notebook es la de trabajar con API's, en este caso, para la descarga de información para su posterior analisis."
   ]
  },
  {
   "cell_type": "code",
   "execution_count": 1,
   "metadata": {},
   "outputs": [],
   "source": [
    "# Importando las librerias\n",
    "import requests\n",
    "import pandas as pd\n",
    "import time"
   ]
  },
  {
   "cell_type": "code",
   "execution_count": 2,
   "metadata": {},
   "outputs": [],
   "source": [
    "# Parametros para usar el API DE YT\n",
    "# Amable recordatorio de siempre revisar esta pagina para crear la API}\n",
    "# https://www.slickremix.com/docs/get-api-key-for-youtube/\n",
    "# https://console.cloud.google.com/project\n",
    "# XXXXXXXXXXXXXXXXXXXXXXXXXXXXXXXXXXXXX\n",
    "\n",
    "API_KEY = 'XXXXXXXXXXXXXXXXXXXXXXXXXXXXXXXXXXXXX'\n",
    "CHANNEL_ID = 'UCBNvm8XDKtQhoi6usy4HXAw'"
   ]
  },
  {
   "cell_type": "code",
   "execution_count": 3,
   "metadata": {},
   "outputs": [],
   "source": [
    "# Prueba de la API\n",
    "response = requests.get('https://api.github.com').json()"
   ]
  },
  {
   "cell_type": "code",
   "execution_count": 4,
   "metadata": {},
   "outputs": [
    {
     "data": {
      "text/plain": [
       "{'current_user_url': 'https://api.github.com/user',\n",
       " 'current_user_authorizations_html_url': 'https://github.com/settings/connections/applications{/client_id}',\n",
       " 'authorizations_url': 'https://api.github.com/authorizations',\n",
       " 'code_search_url': 'https://api.github.com/search/code?q={query}{&page,per_page,sort,order}',\n",
       " 'commit_search_url': 'https://api.github.com/search/commits?q={query}{&page,per_page,sort,order}',\n",
       " 'emails_url': 'https://api.github.com/user/emails',\n",
       " 'emojis_url': 'https://api.github.com/emojis',\n",
       " 'events_url': 'https://api.github.com/events',\n",
       " 'feeds_url': 'https://api.github.com/feeds',\n",
       " 'followers_url': 'https://api.github.com/user/followers',\n",
       " 'following_url': 'https://api.github.com/user/following{/target}',\n",
       " 'gists_url': 'https://api.github.com/gists{/gist_id}',\n",
       " 'hub_url': 'https://api.github.com/hub',\n",
       " 'issue_search_url': 'https://api.github.com/search/issues?q={query}{&page,per_page,sort,order}',\n",
       " 'issues_url': 'https://api.github.com/issues',\n",
       " 'keys_url': 'https://api.github.com/user/keys',\n",
       " 'label_search_url': 'https://api.github.com/search/labels?q={query}&repository_id={repository_id}{&page,per_page}',\n",
       " 'notifications_url': 'https://api.github.com/notifications',\n",
       " 'organization_url': 'https://api.github.com/orgs/{org}',\n",
       " 'organization_repositories_url': 'https://api.github.com/orgs/{org}/repos{?type,page,per_page,sort}',\n",
       " 'organization_teams_url': 'https://api.github.com/orgs/{org}/teams',\n",
       " 'public_gists_url': 'https://api.github.com/gists/public',\n",
       " 'rate_limit_url': 'https://api.github.com/rate_limit',\n",
       " 'repository_url': 'https://api.github.com/repos/{owner}/{repo}',\n",
       " 'repository_search_url': 'https://api.github.com/search/repositories?q={query}{&page,per_page,sort,order}',\n",
       " 'current_user_repositories_url': 'https://api.github.com/user/repos{?type,page,per_page,sort}',\n",
       " 'starred_url': 'https://api.github.com/user/starred{/owner}{/repo}',\n",
       " 'starred_gists_url': 'https://api.github.com/gists/starred',\n",
       " 'topic_search_url': 'https://api.github.com/search/topics?q={query}{&page,per_page}',\n",
       " 'user_url': 'https://api.github.com/users/{user}',\n",
       " 'user_organizations_url': 'https://api.github.com/user/orgs',\n",
       " 'user_repositories_url': 'https://api.github.com/users/{user}/repos{?type,page,per_page,sort}',\n",
       " 'user_search_url': 'https://api.github.com/search/users?q={query}{&page,per_page,sort,order}'}"
      ]
     },
     "execution_count": 4,
     "metadata": {},
     "output_type": "execute_result"
    }
   ],
   "source": [
    "# Si se imprime información vamos por buen camino\n",
    "response"
   ]
  },
  {
   "attachments": {},
   "cell_type": "markdown",
   "metadata": {},
   "source": [
    "## 1.1 Llamada a la API"
   ]
  },
  {
   "attachments": {},
   "cell_type": "markdown",
   "metadata": {},
   "source": [
    "La estructura de la URL para consultar la data de YT es la siguiente\n",
    "\n",
    "'https://www.googleapis.com/youtube/v3/search?key='+**API_KEY**+\"&channelId=\"+**CHANNEL_ID**+\"&part=snippet,id&order=date&maxResults=10000\"\n",
    "\n",
    "* API_KEY es la key que se genero anteriormente\n",
    "\n",
    "* CHANNEL_ID del canal objetivo\n",
    "\n",
    "Para más información, consultar la documentación oficial: https://developers.google.com/youtube/v3/docs/search"
   ]
  },
  {
   "cell_type": "code",
   "execution_count": 5,
   "metadata": {},
   "outputs": [],
   "source": [
    "# en este caso me interesa buscar la información del canal de Dross\n",
    "# el CHANNEL_ID es el siguiente UCNYW2vfGrUE6R5mIJYzkRyQ\n",
    "# en la parte de Results=10000 estamos pidiendo la informacion de los 10000 videos subidos (en donde espero que no exista gente loca que suba tantos videos)\n",
    "\n",
    "channel_objetive = 'UCNYW2vfGrUE6R5mIJYzkRyQ'\n",
    "pageToken = ''\n",
    "\n",
    "url = 'https://www.googleapis.com/youtube/v3/search?key='+API_KEY+'&channelId='+channel_objetive+'&part=snippet,id&order=date&maxResults=10000'+pageToken"
   ]
  },
  {
   "cell_type": "code",
   "execution_count": 6,
   "metadata": {},
   "outputs": [],
   "source": [
    "# Verificamos si hay respuesta con los datos necesarios\n",
    "response = requests.get(url=url).json()"
   ]
  },
  {
   "cell_type": "code",
   "execution_count": 7,
   "metadata": {},
   "outputs": [
    {
     "data": {
      "text/plain": [
       "dict_keys(['kind', 'etag', 'nextPageToken', 'regionCode', 'pageInfo', 'items'])"
      ]
     },
     "execution_count": 7,
     "metadata": {},
     "output_type": "execute_result"
    }
   ],
   "source": [
    "response.keys()"
   ]
  },
  {
   "cell_type": "code",
   "execution_count": 8,
   "metadata": {},
   "outputs": [
    {
     "data": {
      "text/plain": [
       "{'kind': 'youtube#searchResult',\n",
       " 'etag': 'AZCCJQECtSohwdHfr0k1zrSe3Yc',\n",
       " 'id': {'kind': 'youtube#video', 'videoId': 'ulBV6QGcRrs'},\n",
       " 'snippet': {'publishedAt': '2023-03-13T02:00:17Z',\n",
       "  'channelId': 'UCNYW2vfGrUE6R5mIJYzkRyQ',\n",
       "  'title': 'El HORRIBLE TRABAJO de Tim Saver',\n",
       "  'description': 'Si el video te gusta, valoraría muchísimo que le dieras like y que comentaras algo. ¡Gracias! ❤ | ¡Suscríbete! http://bit.ly/1a1sm3k ...',\n",
       "  'thumbnails': {'default': {'url': 'https://i.ytimg.com/vi/ulBV6QGcRrs/default.jpg',\n",
       "    'width': 120,\n",
       "    'height': 90},\n",
       "   'medium': {'url': 'https://i.ytimg.com/vi/ulBV6QGcRrs/mqdefault.jpg',\n",
       "    'width': 320,\n",
       "    'height': 180},\n",
       "   'high': {'url': 'https://i.ytimg.com/vi/ulBV6QGcRrs/hqdefault.jpg',\n",
       "    'width': 480,\n",
       "    'height': 360}},\n",
       "  'channelTitle': 'DrossRotzank',\n",
       "  'liveBroadcastContent': 'none',\n",
       "  'publishTime': '2023-03-13T02:00:17Z'}}"
      ]
     },
     "execution_count": 8,
     "metadata": {},
     "output_type": "execute_result"
    }
   ],
   "source": [
    "# Se observa el formato JSON del ultimo video subido por Dross\n",
    "\n",
    "response['items'][0]"
   ]
  },
  {
   "attachments": {},
   "cell_type": "markdown",
   "metadata": {},
   "source": [
    "## 1.2 Seleccionando informacion"
   ]
  },
  {
   "attachments": {},
   "cell_type": "markdown",
   "metadata": {},
   "source": [
    "Apartir del JSON generado, es posible seleccionar determinada información, deacuerdo a las necesidades que se requieran"
   ]
  },
  {
   "cell_type": "code",
   "execution_count": 9,
   "metadata": {
    "slideshow": {
     "slide_type": "slide"
    }
   },
   "outputs": [
    {
     "name": "stdout",
     "output_type": "stream",
     "text": [
      "ID del video: ulBV6QGcRrs\n",
      "Titulo del video: El HORRIBLE TRABAJO de Tim Saver\n",
      "Fecha de subida: 2023-03-13\n"
     ]
    }
   ],
   "source": [
    "# Obtenemos el Id, titulo y fecha de subida del ultimo video publicado por Dross\n",
    "\n",
    "video_id = response['items'][0]['id']['videoId']\n",
    "\n",
    "video_title = response['items'][0]['snippet']['title']\n",
    "video_title = str(video_title).replace('&amp;', '')\n",
    "\n",
    "upload_date = response['items'][0]['snippet']['publishedAt']\n",
    "upload_date = str(upload_date).split('T')[0]\n",
    "\n",
    "print(f'''ID del video: {video_id}\n",
    "Titulo del video: {video_title}\n",
    "Fecha de subida: {upload_date}''')\n"
   ]
  },
  {
   "attachments": {},
   "cell_type": "markdown",
   "metadata": {},
   "source": [
    "## 1.3 Recolección de información"
   ]
  },
  {
   "attachments": {},
   "cell_type": "markdown",
   "metadata": {},
   "source": [
    "Creamos un dataframe vacio, pero con las columnnas a emplear"
   ]
  },
  {
   "cell_type": "code",
   "execution_count": 10,
   "metadata": {},
   "outputs": [],
   "source": [
    "dataframe = pd.DataFrame(columns=['video_id', 'video_title', 'upload_date',\n",
    "                                  'view_count', 'like_count', 'comment_count'])"
   ]
  },
  {
   "cell_type": "code",
   "execution_count": 12,
   "metadata": {},
   "outputs": [
    {
     "name": "stdout",
     "output_type": "stream",
     "text": [
      "ID del video: hODEtVXqn7s\n",
      "Titulo del video: TOP: Los 7 asesinos seriales que hicieron los dibujos y pinturas más aterradores\n",
      "Fecha de subida: 2022-10-24\n",
      "Vistas: 1980420\n",
      "Likes: 131802\n",
      "Comentarios: 3808\n",
      "\n"
     ]
    },
    {
     "data": {
      "text/html": [
       "<div>\n",
       "<style scoped>\n",
       "    .dataframe tbody tr th:only-of-type {\n",
       "        vertical-align: middle;\n",
       "    }\n",
       "\n",
       "    .dataframe tbody tr th {\n",
       "        vertical-align: top;\n",
       "    }\n",
       "\n",
       "    .dataframe thead th {\n",
       "        text-align: right;\n",
       "    }\n",
       "</style>\n",
       "<table border=\"1\" class=\"dataframe\">\n",
       "  <thead>\n",
       "    <tr style=\"text-align: right;\">\n",
       "      <th></th>\n",
       "      <th>video_id</th>\n",
       "      <th>video_title</th>\n",
       "      <th>upload_date</th>\n",
       "      <th>view_count</th>\n",
       "      <th>like_count</th>\n",
       "      <th>comment_count</th>\n",
       "    </tr>\n",
       "  </thead>\n",
       "  <tbody>\n",
       "    <tr>\n",
       "      <th>0</th>\n",
       "      <td>ulBV6QGcRrs</td>\n",
       "      <td>El HORRIBLE TRABAJO de Tim Saver</td>\n",
       "      <td>2023-03-13</td>\n",
       "      <td>872564</td>\n",
       "      <td>73253</td>\n",
       "      <td>4110</td>\n",
       "    </tr>\n",
       "    <tr>\n",
       "      <th>0</th>\n",
       "      <td>ttYiE_rnKyQ</td>\n",
       "      <td>Lorenzo JAMÁS PERDONARÁ a su madre</td>\n",
       "      <td>2023-03-09</td>\n",
       "      <td>1065424</td>\n",
       "      <td>86573</td>\n",
       "      <td>7331</td>\n",
       "    </tr>\n",
       "    <tr>\n",
       "      <th>0</th>\n",
       "      <td>imwnodeMW8Y</td>\n",
       "      <td>3 videos de cosas extrañas mirando a través de...</td>\n",
       "      <td>2023-03-07</td>\n",
       "      <td>1450537</td>\n",
       "      <td>104702</td>\n",
       "      <td>4789</td>\n",
       "    </tr>\n",
       "    <tr>\n",
       "      <th>0</th>\n",
       "      <td>pH5CWlIBoXM</td>\n",
       "      <td>El hoyo de Aleksandr</td>\n",
       "      <td>2023-03-04</td>\n",
       "      <td>1824018</td>\n",
       "      <td>153246</td>\n",
       "      <td>11195</td>\n",
       "    </tr>\n",
       "    <tr>\n",
       "      <th>0</th>\n",
       "      <td>eyrPKOcPXJw</td>\n",
       "      <td>Los 7 dibujos más escalofriantes y graciosos h...</td>\n",
       "      <td>2023-03-02</td>\n",
       "      <td>158163</td>\n",
       "      <td>9143</td>\n",
       "      <td>140</td>\n",
       "    </tr>\n",
       "  </tbody>\n",
       "</table>\n",
       "</div>"
      ],
      "text/plain": [
       "      video_id                                        video_title upload_date  \\\n",
       "0  ulBV6QGcRrs                   El HORRIBLE TRABAJO de Tim Saver  2023-03-13   \n",
       "0  ttYiE_rnKyQ                 Lorenzo JAMÁS PERDONARÁ a su madre  2023-03-09   \n",
       "0  imwnodeMW8Y  3 videos de cosas extrañas mirando a través de...  2023-03-07   \n",
       "0  pH5CWlIBoXM                               El hoyo de Aleksandr  2023-03-04   \n",
       "0  eyrPKOcPXJw  Los 7 dibujos más escalofriantes y graciosos h...  2023-03-02   \n",
       "\n",
       "  view_count like_count comment_count  \n",
       "0     872564      73253          4110  \n",
       "0    1065424      86573          7331  \n",
       "0    1450537     104702          4789  \n",
       "0    1824018     153246         11195  \n",
       "0     158163       9143           140  "
      ]
     },
     "execution_count": 12,
     "metadata": {},
     "output_type": "execute_result"
    }
   ],
   "source": [
    "for info_video in response['items']:\n",
    "    # Verificamos que todos los resultados sean videos\n",
    "    if info_video['id']['kind'] == 'youtube#video':\n",
    "        video_id = info_video['id']['videoId']\n",
    "\n",
    "        video_title = info_video['snippet']['title']\n",
    "        video_title = str(video_title).replace('&amp;', '')\n",
    "\n",
    "        upload_date = info_video['snippet']['publishedAt']\n",
    "        upload_date = str(upload_date).split('T')[0]\n",
    "        \n",
    "        url_video_stats = \"https://www.googleapis.com/youtube/v3/videos?id=\"+video_id+\"&part=statistics&key=\"+API_KEY\n",
    "        response_video_stats = requests.get(url_video_stats).json()\n",
    "        \n",
    "        view_count = response_video_stats['items'][0]['statistics']['viewCount']\n",
    "        like_count = response_video_stats['items'][0]['statistics']['likeCount']\n",
    "        comment_count = response_video_stats['items'][0]['statistics']['commentCount']\n",
    "        \n",
    "        column = pd.DataFrame([[video_id, video_title, upload_date,\n",
    "                               view_count, like_count, comment_count]],\n",
    "                              columns=['video_id', 'video_title', 'upload_date',\n",
    "                                       'view_count', 'like_count', 'comment_count'])\n",
    "        \n",
    "        dataframe = pd.concat([dataframe, column])\n",
    "        \n",
    "\n",
    "print(f'''ID del video: {video_id}\n",
    "Titulo del video: {video_title}\n",
    "Fecha de subida: {upload_date}\n",
    "Vistas: {view_count}\n",
    "Likes: {like_count}\n",
    "Comentarios: {comment_count}\\n''')\n",
    "\n",
    "dataframe.head()\n"
   ]
  },
  {
   "attachments": {},
   "cell_type": "markdown",
   "metadata": {},
   "source": [
    "Usamos el ID del video más reciente"
   ]
  },
  {
   "cell_type": "code",
   "execution_count": 14,
   "metadata": {},
   "outputs": [],
   "source": [
    "video_id = 'ulBV6QGcRrs'"
   ]
  },
  {
   "cell_type": "code",
   "execution_count": 51,
   "metadata": {},
   "outputs": [],
   "source": [
    "url = \"https://youtube.googleapis.com/youtube/v3/videos?part=snippet&id=\"+video_id+'&key='+API_KEY\n",
    "response = requests.get(url=url).json()"
   ]
  },
  {
   "cell_type": "code",
   "execution_count": 40,
   "metadata": {},
   "outputs": [
    {
     "name": "stdout",
     "output_type": "stream",
     "text": [
      "Video ID: ulBV6QGcRrs\n",
      "Titulo del video: El HORRIBLE TRABAJO de Tim Saver\n",
      "Fecha de subida 2023-03-13\n",
      "Cantidad de vistas: 879926\n",
      "Cantidad de likes: 73531\n",
      "Cantidad de comentarios 4121\n",
      "Cantidad etiquetas 27\n"
     ]
    }
   ],
   "source": [
    "url = \"https://youtube.googleapis.com/youtube/v3/videos?part=snippet&id=\"+video_id+'&key='+API_KEY\n",
    "response = requests.get(url=url).json()\n",
    "\n",
    "video_title = response['items'][0]['snippet']['title']\n",
    "video_title = str(video_title).replace('&amp;', '')\n",
    "\n",
    "upload_date = response['items'][0]['snippet']['publishedAt']\n",
    "upload_date = str(upload_date).split('T')[0]\n",
    "\n",
    "tags = response['items'][0]['snippet']['tags']\n",
    "\n",
    "url = \"https://www.googleapis.com/youtube/v3/videos?id=\"+video_id+\"&part=statistics&key=\"+API_KEY\n",
    "response = requests.get(url=url).json()\n",
    "\n",
    "view_count = response['items'][0]['statistics']['viewCount']\n",
    "like_count = response['items'][0]['statistics']['likeCount']\n",
    "comment_count = response['items'][0]['statistics']['commentCount']\n",
    "\n",
    "print(f'Video ID: {video_id}')\n",
    "print(f'Titulo del video: {video_title}')\n",
    "print(f'Fecha de subida {upload_date}')\n",
    "print(f'Cantidad de vistas: {view_count}')\n",
    "print(f'Cantidad de likes: {like_count}')\n",
    "print(f'Cantidad de comentarios {comment_count}')\n",
    "print(f'Cantidad etiquetas {len(tags)}')\n",
    "\n",
    "#print(response['items'][0]['snippet']['title'])\n",
    "#print(response['items'][0]['snippet']['publishedAt'])"
   ]
  },
  {
   "cell_type": "code",
   "execution_count": 49,
   "metadata": {},
   "outputs": [],
   "source": [
    "# Esta función se toma por separado, ya que hace otro llamado a la API\n",
    "\n",
    "def get_video_statistics(video_id):\n",
    "    url = \"https://www.googleapis.com/youtube/v3/videos?id=\"+video_id+\"&part=statistics&key=\"+API_KEY\n",
    "    \n",
    "    response = requests.get(url=url).json()\n",
    "    \n",
    "    # return pd.DataFrame([[response['items'][0]['statistics']]],\n",
    "    #                     columns=['video_id', 'video_title', 'upload_date',\n",
    "    #                                    'view_count', 'like_count', 'comment_count'])\n",
    "    \n",
    "    return response['items'][0]['statistics']['viewCount'],\\\n",
    "            response['items'][0]['statistics']['likeCount'], \\\n",
    "            response['items'][0]['statistics']['commentCount']\n"
   ]
  },
  {
   "cell_type": "code",
   "execution_count": 50,
   "metadata": {},
   "outputs": [
    {
     "data": {
      "text/plain": [
       "('893636', '73969', '4170')"
      ]
     },
     "execution_count": 50,
     "metadata": {},
     "output_type": "execute_result"
    }
   ],
   "source": [
    "data = get_video_statistics('ulBV6QGcRrs')\n",
    "data"
   ]
  },
  {
   "cell_type": "code",
   "execution_count": 61,
   "metadata": {},
   "outputs": [],
   "source": [
    "url = 'https://www.googleapis.com/youtube/v3/search?key='+API_KEY+'&channelId='+\\\n",
    "            'UCC0a-WbVbyxXdgyB5Ki7jXA'+'&part=snippet,id&order=date&maxResults=10000'+pageToken\n",
    "            \n",
    "response = requests.get(url=url).json()\n"
   ]
  },
  {
   "cell_type": "code",
   "execution_count": 75,
   "metadata": {},
   "outputs": [],
   "source": [
    "# Falta agregar la parte de las etiquetas\n",
    "# Arreglar el Bug\n",
    "# Solucionar la parte del append por concat\n",
    "\n",
    "def get_video_info(df: pd.DataFrame, channel_ID):\n",
    "    pageToken = ''\n",
    "    while True:\n",
    "        url = 'https://www.googleapis.com/youtube/v3/search?key='+API_KEY+'&channelId='+\\\n",
    "            channel_ID+'&part=snippet,id&order=date&maxResults=10000'+pageToken\n",
    "            \n",
    "        response = requests.get(url=url).json()\n",
    "        time.sleep(1)\n",
    "        \n",
    "        for video in response['items']:\n",
    "            if video['id']['kind'] == 'youtube#video':\n",
    "                video_id = video['id']['videoId']\n",
    "                video_title = video['snippet']['title']\n",
    "                upload_date = str(video['snippet']['publishedAt']).split('T')[0]\n",
    "                view_count, like_count, comment_count = get_video_statistics(video_id)\n",
    "                \n",
    "                df = df.append({'Video_id': video_id, 'Video_title': video_title,\n",
    "                                'Upload_date': upload_date, 'View_Count': view_count,\n",
    "                                'Like_Count': like_count, 'Comment_Count': comment_count}, ignore_index=True)\n",
    "                \n",
    "        try:\n",
    "            if response['nextPageToken'] != None:\n",
    "                pageToken = 'pageToken=' + response['nextPageToken']\n",
    "                \n",
    "        except:\n",
    "            break\n",
    "        \n",
    "    return df\n",
    "                \n",
    "        "
   ]
  },
  {
   "cell_type": "code",
   "execution_count": 76,
   "metadata": {},
   "outputs": [
    {
     "name": "stderr",
     "output_type": "stream",
     "text": [
      "/tmp/ipykernel_251/3806624572.py:19: FutureWarning: The frame.append method is deprecated and will be removed from pandas in a future version. Use pandas.concat instead.\n",
      "  df = df.append({'Video_id': video_id, 'Video_title': video_title,\n",
      "/tmp/ipykernel_251/3806624572.py:19: FutureWarning: The frame.append method is deprecated and will be removed from pandas in a future version. Use pandas.concat instead.\n",
      "  df = df.append({'Video_id': video_id, 'Video_title': video_title,\n",
      "/tmp/ipykernel_251/3806624572.py:19: FutureWarning: The frame.append method is deprecated and will be removed from pandas in a future version. Use pandas.concat instead.\n",
      "  df = df.append({'Video_id': video_id, 'Video_title': video_title,\n",
      "/tmp/ipykernel_251/3806624572.py:19: FutureWarning: The frame.append method is deprecated and will be removed from pandas in a future version. Use pandas.concat instead.\n",
      "  df = df.append({'Video_id': video_id, 'Video_title': video_title,\n",
      "/tmp/ipykernel_251/3806624572.py:19: FutureWarning: The frame.append method is deprecated and will be removed from pandas in a future version. Use pandas.concat instead.\n",
      "  df = df.append({'Video_id': video_id, 'Video_title': video_title,\n",
      "/tmp/ipykernel_251/3806624572.py:19: FutureWarning: The frame.append method is deprecated and will be removed from pandas in a future version. Use pandas.concat instead.\n",
      "  df = df.append({'Video_id': video_id, 'Video_title': video_title,\n",
      "/tmp/ipykernel_251/3806624572.py:19: FutureWarning: The frame.append method is deprecated and will be removed from pandas in a future version. Use pandas.concat instead.\n",
      "  df = df.append({'Video_id': video_id, 'Video_title': video_title,\n",
      "/tmp/ipykernel_251/3806624572.py:19: FutureWarning: The frame.append method is deprecated and will be removed from pandas in a future version. Use pandas.concat instead.\n",
      "  df = df.append({'Video_id': video_id, 'Video_title': video_title,\n",
      "/tmp/ipykernel_251/3806624572.py:19: FutureWarning: The frame.append method is deprecated and will be removed from pandas in a future version. Use pandas.concat instead.\n",
      "  df = df.append({'Video_id': video_id, 'Video_title': video_title,\n",
      "/tmp/ipykernel_251/3806624572.py:19: FutureWarning: The frame.append method is deprecated and will be removed from pandas in a future version. Use pandas.concat instead.\n",
      "  df = df.append({'Video_id': video_id, 'Video_title': video_title,\n",
      "/tmp/ipykernel_251/3806624572.py:19: FutureWarning: The frame.append method is deprecated and will be removed from pandas in a future version. Use pandas.concat instead.\n",
      "  df = df.append({'Video_id': video_id, 'Video_title': video_title,\n",
      "/tmp/ipykernel_251/3806624572.py:19: FutureWarning: The frame.append method is deprecated and will be removed from pandas in a future version. Use pandas.concat instead.\n",
      "  df = df.append({'Video_id': video_id, 'Video_title': video_title,\n",
      "/tmp/ipykernel_251/3806624572.py:19: FutureWarning: The frame.append method is deprecated and will be removed from pandas in a future version. Use pandas.concat instead.\n",
      "  df = df.append({'Video_id': video_id, 'Video_title': video_title,\n",
      "/tmp/ipykernel_251/3806624572.py:19: FutureWarning: The frame.append method is deprecated and will be removed from pandas in a future version. Use pandas.concat instead.\n",
      "  df = df.append({'Video_id': video_id, 'Video_title': video_title,\n",
      "/tmp/ipykernel_251/3806624572.py:19: FutureWarning: The frame.append method is deprecated and will be removed from pandas in a future version. Use pandas.concat instead.\n",
      "  df = df.append({'Video_id': video_id, 'Video_title': video_title,\n",
      "/tmp/ipykernel_251/3806624572.py:19: FutureWarning: The frame.append method is deprecated and will be removed from pandas in a future version. Use pandas.concat instead.\n",
      "  df = df.append({'Video_id': video_id, 'Video_title': video_title,\n",
      "/tmp/ipykernel_251/3806624572.py:19: FutureWarning: The frame.append method is deprecated and will be removed from pandas in a future version. Use pandas.concat instead.\n",
      "  df = df.append({'Video_id': video_id, 'Video_title': video_title,\n",
      "/tmp/ipykernel_251/3806624572.py:19: FutureWarning: The frame.append method is deprecated and will be removed from pandas in a future version. Use pandas.concat instead.\n",
      "  df = df.append({'Video_id': video_id, 'Video_title': video_title,\n",
      "/tmp/ipykernel_251/3806624572.py:19: FutureWarning: The frame.append method is deprecated and will be removed from pandas in a future version. Use pandas.concat instead.\n",
      "  df = df.append({'Video_id': video_id, 'Video_title': video_title,\n",
      "/tmp/ipykernel_251/3806624572.py:19: FutureWarning: The frame.append method is deprecated and will be removed from pandas in a future version. Use pandas.concat instead.\n",
      "  df = df.append({'Video_id': video_id, 'Video_title': video_title,\n",
      "/tmp/ipykernel_251/3806624572.py:19: FutureWarning: The frame.append method is deprecated and will be removed from pandas in a future version. Use pandas.concat instead.\n",
      "  df = df.append({'Video_id': video_id, 'Video_title': video_title,\n",
      "/tmp/ipykernel_251/3806624572.py:19: FutureWarning: The frame.append method is deprecated and will be removed from pandas in a future version. Use pandas.concat instead.\n",
      "  df = df.append({'Video_id': video_id, 'Video_title': video_title,\n",
      "/tmp/ipykernel_251/3806624572.py:19: FutureWarning: The frame.append method is deprecated and will be removed from pandas in a future version. Use pandas.concat instead.\n",
      "  df = df.append({'Video_id': video_id, 'Video_title': video_title,\n",
      "/tmp/ipykernel_251/3806624572.py:19: FutureWarning: The frame.append method is deprecated and will be removed from pandas in a future version. Use pandas.concat instead.\n",
      "  df = df.append({'Video_id': video_id, 'Video_title': video_title,\n",
      "/tmp/ipykernel_251/3806624572.py:19: FutureWarning: The frame.append method is deprecated and will be removed from pandas in a future version. Use pandas.concat instead.\n",
      "  df = df.append({'Video_id': video_id, 'Video_title': video_title,\n",
      "/tmp/ipykernel_251/3806624572.py:19: FutureWarning: The frame.append method is deprecated and will be removed from pandas in a future version. Use pandas.concat instead.\n",
      "  df = df.append({'Video_id': video_id, 'Video_title': video_title,\n",
      "/tmp/ipykernel_251/3806624572.py:19: FutureWarning: The frame.append method is deprecated and will be removed from pandas in a future version. Use pandas.concat instead.\n",
      "  df = df.append({'Video_id': video_id, 'Video_title': video_title,\n",
      "/tmp/ipykernel_251/3806624572.py:19: FutureWarning: The frame.append method is deprecated and will be removed from pandas in a future version. Use pandas.concat instead.\n",
      "  df = df.append({'Video_id': video_id, 'Video_title': video_title,\n",
      "/tmp/ipykernel_251/3806624572.py:19: FutureWarning: The frame.append method is deprecated and will be removed from pandas in a future version. Use pandas.concat instead.\n",
      "  df = df.append({'Video_id': video_id, 'Video_title': video_title,\n",
      "/tmp/ipykernel_251/3806624572.py:19: FutureWarning: The frame.append method is deprecated and will be removed from pandas in a future version. Use pandas.concat instead.\n",
      "  df = df.append({'Video_id': video_id, 'Video_title': video_title,\n",
      "/tmp/ipykernel_251/3806624572.py:19: FutureWarning: The frame.append method is deprecated and will be removed from pandas in a future version. Use pandas.concat instead.\n",
      "  df = df.append({'Video_id': video_id, 'Video_title': video_title,\n",
      "/tmp/ipykernel_251/3806624572.py:19: FutureWarning: The frame.append method is deprecated and will be removed from pandas in a future version. Use pandas.concat instead.\n",
      "  df = df.append({'Video_id': video_id, 'Video_title': video_title,\n",
      "/tmp/ipykernel_251/3806624572.py:19: FutureWarning: The frame.append method is deprecated and will be removed from pandas in a future version. Use pandas.concat instead.\n",
      "  df = df.append({'Video_id': video_id, 'Video_title': video_title,\n",
      "/tmp/ipykernel_251/3806624572.py:19: FutureWarning: The frame.append method is deprecated and will be removed from pandas in a future version. Use pandas.concat instead.\n",
      "  df = df.append({'Video_id': video_id, 'Video_title': video_title,\n",
      "/tmp/ipykernel_251/3806624572.py:19: FutureWarning: The frame.append method is deprecated and will be removed from pandas in a future version. Use pandas.concat instead.\n",
      "  df = df.append({'Video_id': video_id, 'Video_title': video_title,\n",
      "/tmp/ipykernel_251/3806624572.py:19: FutureWarning: The frame.append method is deprecated and will be removed from pandas in a future version. Use pandas.concat instead.\n",
      "  df = df.append({'Video_id': video_id, 'Video_title': video_title,\n",
      "/tmp/ipykernel_251/3806624572.py:19: FutureWarning: The frame.append method is deprecated and will be removed from pandas in a future version. Use pandas.concat instead.\n",
      "  df = df.append({'Video_id': video_id, 'Video_title': video_title,\n",
      "/tmp/ipykernel_251/3806624572.py:19: FutureWarning: The frame.append method is deprecated and will be removed from pandas in a future version. Use pandas.concat instead.\n",
      "  df = df.append({'Video_id': video_id, 'Video_title': video_title,\n",
      "/tmp/ipykernel_251/3806624572.py:19: FutureWarning: The frame.append method is deprecated and will be removed from pandas in a future version. Use pandas.concat instead.\n",
      "  df = df.append({'Video_id': video_id, 'Video_title': video_title,\n",
      "/tmp/ipykernel_251/3806624572.py:19: FutureWarning: The frame.append method is deprecated and will be removed from pandas in a future version. Use pandas.concat instead.\n",
      "  df = df.append({'Video_id': video_id, 'Video_title': video_title,\n",
      "/tmp/ipykernel_251/3806624572.py:19: FutureWarning: The frame.append method is deprecated and will be removed from pandas in a future version. Use pandas.concat instead.\n",
      "  df = df.append({'Video_id': video_id, 'Video_title': video_title,\n",
      "/tmp/ipykernel_251/3806624572.py:19: FutureWarning: The frame.append method is deprecated and will be removed from pandas in a future version. Use pandas.concat instead.\n",
      "  df = df.append({'Video_id': video_id, 'Video_title': video_title,\n",
      "/tmp/ipykernel_251/3806624572.py:19: FutureWarning: The frame.append method is deprecated and will be removed from pandas in a future version. Use pandas.concat instead.\n",
      "  df = df.append({'Video_id': video_id, 'Video_title': video_title,\n",
      "/tmp/ipykernel_251/3806624572.py:19: FutureWarning: The frame.append method is deprecated and will be removed from pandas in a future version. Use pandas.concat instead.\n",
      "  df = df.append({'Video_id': video_id, 'Video_title': video_title,\n"
     ]
    },
    {
     "ename": "KeyError",
     "evalue": "'items'",
     "output_type": "error",
     "traceback": [
      "\u001b[0;31m---------------------------------------------------------------------------\u001b[0m",
      "\u001b[0;31mKeyError\u001b[0m                                  Traceback (most recent call last)",
      "Cell \u001b[0;32mIn[76], line 4\u001b[0m\n\u001b[1;32m      1\u001b[0m df \u001b[39m=\u001b[39m pd\u001b[39m.\u001b[39mDataFrame(columns\u001b[39m=\u001b[39m[\u001b[39m\"\u001b[39m\u001b[39mVideo_id\u001b[39m\u001b[39m\"\u001b[39m,\u001b[39m\"\u001b[39m\u001b[39mVideo_title\u001b[39m\u001b[39m\"\u001b[39m,\u001b[39m\"\u001b[39m\u001b[39mUpload_date\u001b[39m\u001b[39m\"\u001b[39m,\n\u001b[1;32m      2\u001b[0m \u001b[39m\"\u001b[39m\u001b[39mView_count\u001b[39m\u001b[39m\"\u001b[39m,\u001b[39m\"\u001b[39m\u001b[39mLike_count\u001b[39m\u001b[39m\"\u001b[39m,\u001b[39m\"\u001b[39m\u001b[39mComment_count\u001b[39m\u001b[39m\"\u001b[39m]) \u001b[39m#build our \u001b[39;00m\n\u001b[0;32m----> 4\u001b[0m df \u001b[39m=\u001b[39m get_video_info(df, \u001b[39m'\u001b[39;49m\u001b[39mUCC0a-WbVbyxXdgyB5Ki7jXA\u001b[39;49m\u001b[39m'\u001b[39;49m)\n\u001b[1;32m      6\u001b[0m \u001b[39mprint\u001b[39m(df)\n",
      "Cell \u001b[0;32mIn[75], line 12\u001b[0m, in \u001b[0;36mget_video_info\u001b[0;34m(df, channel_ID)\u001b[0m\n\u001b[1;32m      9\u001b[0m response \u001b[39m=\u001b[39m requests\u001b[39m.\u001b[39mget(url\u001b[39m=\u001b[39murl)\u001b[39m.\u001b[39mjson()\n\u001b[1;32m     10\u001b[0m time\u001b[39m.\u001b[39msleep(\u001b[39m1\u001b[39m)\n\u001b[0;32m---> 12\u001b[0m \u001b[39mfor\u001b[39;00m video \u001b[39min\u001b[39;00m response[\u001b[39m'\u001b[39;49m\u001b[39mitems\u001b[39;49m\u001b[39m'\u001b[39;49m]:\n\u001b[1;32m     13\u001b[0m     \u001b[39mif\u001b[39;00m video[\u001b[39m'\u001b[39m\u001b[39mid\u001b[39m\u001b[39m'\u001b[39m][\u001b[39m'\u001b[39m\u001b[39mkind\u001b[39m\u001b[39m'\u001b[39m] \u001b[39m==\u001b[39m \u001b[39m'\u001b[39m\u001b[39myoutube#video\u001b[39m\u001b[39m'\u001b[39m:\n\u001b[1;32m     14\u001b[0m         video_id \u001b[39m=\u001b[39m video[\u001b[39m'\u001b[39m\u001b[39mid\u001b[39m\u001b[39m'\u001b[39m][\u001b[39m'\u001b[39m\u001b[39mvideoId\u001b[39m\u001b[39m'\u001b[39m]\n",
      "\u001b[0;31mKeyError\u001b[0m: 'items'"
     ]
    }
   ],
   "source": [
    "df = pd.DataFrame(columns=[\"Video_id\",\"Video_title\",\"Upload_date\",\n",
    "\"View_count\",\"Like_count\",\"Comment_count\"]) #build our \n",
    " \n",
    "df = get_video_info(df, 'UCC0a-WbVbyxXdgyB5Ki7jXA')\n",
    " \n",
    "print(df)"
   ]
  }
 ],
 "metadata": {
  "kernelspec": {
   "display_name": "venv",
   "language": "python",
   "name": "python3"
  },
  "language_info": {
   "codemirror_mode": {
    "name": "ipython",
    "version": 3
   },
   "file_extension": ".py",
   "mimetype": "text/x-python",
   "name": "python",
   "nbconvert_exporter": "python",
   "pygments_lexer": "ipython3",
   "version": "3.10.6"
  },
  "orig_nbformat": 4,
  "vscode": {
   "interpreter": {
    "hash": "325a8389951b364615fbcd239229511685fac336d392465388ba66be57876462"
   }
  }
 },
 "nbformat": 4,
 "nbformat_minor": 2
}
