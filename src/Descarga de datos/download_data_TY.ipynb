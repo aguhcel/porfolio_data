{
 "cells": [
  {
   "attachments": {},
   "cell_type": "markdown",
   "metadata": {},
   "source": [
    "# 1.Trabajando con API's"
   ]
  },
  {
   "attachments": {},
   "cell_type": "markdown",
   "metadata": {},
   "source": [
    "La intención de este notebook es la de trabajar con API's, en este caso, para la descarga de información para su posterior analisis."
   ]
  },
  {
   "cell_type": "code",
   "execution_count": 1,
   "metadata": {},
   "outputs": [],
   "source": [
    "# Importando las librerias\n",
    "import requests\n",
    "import pandas as pd\n",
    "import time"
   ]
  },
  {
   "cell_type": "code",
   "execution_count": 2,
   "metadata": {},
   "outputs": [],
   "source": [
    "# Parametros para usar el API DE YT\n",
    "# Amable recordatorio de siempre revisar esta pagina para crear la API}\n",
    "# https://www.slickremix.com/docs/get-api-key-for-youtube/\n",
    "# https://console.cloud.google.com/project\n",
    "# XXXXXXXXXXXXXXXXXXXXXXXXXXXXXXXXXXXXX\n",
    "\n",
    "API_KEY = 'XXXXXXXXXXXXXXXXXXXXXXXXXXXXXXXXXXXXX'\n",
    "CHANNEL_ID = 'UCBNvm8XDKtQhoi6usy4HXAw'"
   ]
  },
  {
   "cell_type": "code",
   "execution_count": 3,
   "metadata": {},
   "outputs": [],
   "source": [
    "# Prueba de la API\n",
    "response = requests.get('https://api.github.com').json()"
   ]
  },
  {
   "cell_type": "code",
   "execution_count": 4,
   "metadata": {},
   "outputs": [
    {
     "data": {
      "text/plain": [
       "{'current_user_url': 'https://api.github.com/user',\n",
       " 'current_user_authorizations_html_url': 'https://github.com/settings/connections/applications{/client_id}',\n",
       " 'authorizations_url': 'https://api.github.com/authorizations',\n",
       " 'code_search_url': 'https://api.github.com/search/code?q={query}{&page,per_page,sort,order}',\n",
       " 'commit_search_url': 'https://api.github.com/search/commits?q={query}{&page,per_page,sort,order}',\n",
       " 'emails_url': 'https://api.github.com/user/emails',\n",
       " 'emojis_url': 'https://api.github.com/emojis',\n",
       " 'events_url': 'https://api.github.com/events',\n",
       " 'feeds_url': 'https://api.github.com/feeds',\n",
       " 'followers_url': 'https://api.github.com/user/followers',\n",
       " 'following_url': 'https://api.github.com/user/following{/target}',\n",
       " 'gists_url': 'https://api.github.com/gists{/gist_id}',\n",
       " 'hub_url': 'https://api.github.com/hub',\n",
       " 'issue_search_url': 'https://api.github.com/search/issues?q={query}{&page,per_page,sort,order}',\n",
       " 'issues_url': 'https://api.github.com/issues',\n",
       " 'keys_url': 'https://api.github.com/user/keys',\n",
       " 'label_search_url': 'https://api.github.com/search/labels?q={query}&repository_id={repository_id}{&page,per_page}',\n",
       " 'notifications_url': 'https://api.github.com/notifications',\n",
       " 'organization_url': 'https://api.github.com/orgs/{org}',\n",
       " 'organization_repositories_url': 'https://api.github.com/orgs/{org}/repos{?type,page,per_page,sort}',\n",
       " 'organization_teams_url': 'https://api.github.com/orgs/{org}/teams',\n",
       " 'public_gists_url': 'https://api.github.com/gists/public',\n",
       " 'rate_limit_url': 'https://api.github.com/rate_limit',\n",
       " 'repository_url': 'https://api.github.com/repos/{owner}/{repo}',\n",
       " 'repository_search_url': 'https://api.github.com/search/repositories?q={query}{&page,per_page,sort,order}',\n",
       " 'current_user_repositories_url': 'https://api.github.com/user/repos{?type,page,per_page,sort}',\n",
       " 'starred_url': 'https://api.github.com/user/starred{/owner}{/repo}',\n",
       " 'starred_gists_url': 'https://api.github.com/gists/starred',\n",
       " 'topic_search_url': 'https://api.github.com/search/topics?q={query}{&page,per_page}',\n",
       " 'user_url': 'https://api.github.com/users/{user}',\n",
       " 'user_organizations_url': 'https://api.github.com/user/orgs',\n",
       " 'user_repositories_url': 'https://api.github.com/users/{user}/repos{?type,page,per_page,sort}',\n",
       " 'user_search_url': 'https://api.github.com/search/users?q={query}{&page,per_page,sort,order}'}"
      ]
     },
     "execution_count": 4,
     "metadata": {},
     "output_type": "execute_result"
    }
   ],
   "source": [
    "# Si se imprime información vamos por buen camino\n",
    "response"
   ]
  },
  {
   "attachments": {},
   "cell_type": "markdown",
   "metadata": {},
   "source": [
    "## 1.1 Llamada a la API"
   ]
  },
  {
   "attachments": {},
   "cell_type": "markdown",
   "metadata": {},
   "source": [
    "La estructura de la URL para consultar la data de YT es la siguiente\n",
    "\n",
    "'https://www.googleapis.com/youtube/v3/search?key='+**API_KEY**+\"&channelId=\"+**CHANNEL_ID**+\"&part=snippet,id&order=date&maxResults=10000\"\n",
    "\n",
    "* API_KEY es la key que se genero anteriormente\n",
    "\n",
    "* CHANNEL_ID del canal objetivo\n",
    "\n",
    "Para más información, consultar la documentación oficial: https://developers.google.com/youtube/v3/docs/search"
   ]
  },
  {
   "cell_type": "code",
   "execution_count": 72,
   "metadata": {},
   "outputs": [],
   "source": [
    "# en este caso me interesa buscar la información del canal de Dross\n",
    "# el CHANNEL_ID es el siguiente UCNYW2vfGrUE6R5mIJYzkRyQ\n",
    "# en la parte de Results=10000 estamos pidiendo la informacion de los 10000 videos subidos (en donde espero que no exista gente loca que suba tantos videos)\n",
    "\n",
    "channel_objetive = 'UCNYW2vfGrUE6R5mIJYzkRyQ'\n",
    "pageToken = ''\n",
    "\n",
    "url = 'https://www.googleapis.com/youtube/v3/search?key='+API_KEY+'&channelId='+channel_objetive+'&part=snippet,id&order=date&maxResults=10000'+pageToken"
   ]
  },
  {
   "cell_type": "code",
   "execution_count": 6,
   "metadata": {},
   "outputs": [],
   "source": [
    "# Verificamos si hay respuesta con los datos necesarios\n",
    "response = requests.get(url=url).json()"
   ]
  },
  {
   "cell_type": "code",
   "execution_count": 7,
   "metadata": {},
   "outputs": [
    {
     "data": {
      "text/plain": [
       "dict_keys(['kind', 'etag', 'nextPageToken', 'regionCode', 'pageInfo', 'items'])"
      ]
     },
     "execution_count": 7,
     "metadata": {},
     "output_type": "execute_result"
    }
   ],
   "source": [
    "response.keys()"
   ]
  },
  {
   "cell_type": "code",
   "execution_count": 13,
   "metadata": {},
   "outputs": [
    {
     "data": {
      "text/plain": [
       "{'kind': 'youtube#searchResult',\n",
       " 'etag': 'kMg6_f0L5Nuy1FYtoQdSJvdrC-s',\n",
       " 'id': {'kind': 'youtube#video', 'videoId': '-USeILTeqDU'},\n",
       " 'snippet': {'publishedAt': '2023-03-01T01:00:03Z',\n",
       "  'channelId': 'UCNYW2vfGrUE6R5mIJYzkRyQ',\n",
       "  'title': 'Hay algo extraño EN CASA DE SEAN',\n",
       "  'description': 'http://bit.ly/1a1sm3k #dross.',\n",
       "  'thumbnails': {'default': {'url': 'https://i.ytimg.com/vi/-USeILTeqDU/default.jpg',\n",
       "    'width': 120,\n",
       "    'height': 90},\n",
       "   'medium': {'url': 'https://i.ytimg.com/vi/-USeILTeqDU/mqdefault.jpg',\n",
       "    'width': 320,\n",
       "    'height': 180},\n",
       "   'high': {'url': 'https://i.ytimg.com/vi/-USeILTeqDU/hqdefault.jpg',\n",
       "    'width': 480,\n",
       "    'height': 360}},\n",
       "  'channelTitle': 'DrossRotzank',\n",
       "  'liveBroadcastContent': 'none',\n",
       "  'publishTime': '2023-03-01T01:00:03Z'}}"
      ]
     },
     "execution_count": 13,
     "metadata": {},
     "output_type": "execute_result"
    }
   ],
   "source": [
    "# Se observa el formato JSON del ultimo video subido por Dross\n",
    "\n",
    "response['items'][0]"
   ]
  },
  {
   "attachments": {},
   "cell_type": "markdown",
   "metadata": {},
   "source": [
    "## 1.2 Seleccionando informacion"
   ]
  },
  {
   "attachments": {},
   "cell_type": "markdown",
   "metadata": {},
   "source": [
    "Apartir del JSON generado, es posible seleccionar determinada información, deacuerdo a las necesidades que se requieran"
   ]
  },
  {
   "cell_type": "code",
   "execution_count": 14,
   "metadata": {
    "slideshow": {
     "slide_type": "slide"
    }
   },
   "outputs": [
    {
     "name": "stdout",
     "output_type": "stream",
     "text": [
      "ID del video: -USeILTeqDU\n",
      "Titulo del video: Hay algo extraño EN CASA DE SEAN\n",
      "Fecha de subida: 2023-03-01\n"
     ]
    }
   ],
   "source": [
    "# Obtenemos el Id, titulo y fecha de subida del ultimo video publicado por Dross\n",
    "\n",
    "video_id = response['items'][0]['id']['videoId']\n",
    "\n",
    "video_title = response['items'][0]['snippet']['title']\n",
    "video_title = str(video_title).replace('&amp;', '')\n",
    "\n",
    "upload_date = response['items'][0]['snippet']['publishedAt']\n",
    "upload_date = str(upload_date).split('T')[0]\n",
    "\n",
    "print(f'''ID del video: {video_id}\n",
    "Titulo del video: {video_title}\n",
    "Fecha de subida: {upload_date}''')\n"
   ]
  },
  {
   "attachments": {},
   "cell_type": "markdown",
   "metadata": {},
   "source": [
    "## 1.3 Recolección de información"
   ]
  },
  {
   "cell_type": "code",
   "execution_count": 17,
   "metadata": {},
   "outputs": [],
   "source": [
    "dataframe = pd.DataFrame(columns=['video_id', 'video_title', 'upload_date',\n",
    "                                  'view_count', 'like_count', 'comment_count'])"
   ]
  },
  {
   "cell_type": "code",
   "execution_count": 18,
   "metadata": {},
   "outputs": [
    {
     "data": {
      "text/html": [
       "<div>\n",
       "<style scoped>\n",
       "    .dataframe tbody tr th:only-of-type {\n",
       "        vertical-align: middle;\n",
       "    }\n",
       "\n",
       "    .dataframe tbody tr th {\n",
       "        vertical-align: top;\n",
       "    }\n",
       "\n",
       "    .dataframe thead th {\n",
       "        text-align: right;\n",
       "    }\n",
       "</style>\n",
       "<table border=\"1\" class=\"dataframe\">\n",
       "  <thead>\n",
       "    <tr style=\"text-align: right;\">\n",
       "      <th></th>\n",
       "      <th>video_id</th>\n",
       "      <th>video_title</th>\n",
       "      <th>upload_date</th>\n",
       "      <th>view_count</th>\n",
       "      <th>like_count</th>\n",
       "      <th>comment_count</th>\n",
       "    </tr>\n",
       "  </thead>\n",
       "  <tbody>\n",
       "  </tbody>\n",
       "</table>\n",
       "</div>"
      ],
      "text/plain": [
       "Empty DataFrame\n",
       "Columns: [video_id, video_title, upload_date, view_count, like_count, comment_count]\n",
       "Index: []"
      ]
     },
     "execution_count": 18,
     "metadata": {},
     "output_type": "execute_result"
    }
   ],
   "source": [
    "dataframe"
   ]
  },
  {
   "cell_type": "code",
   "execution_count": 24,
   "metadata": {},
   "outputs": [
    {
     "name": "stdout",
     "output_type": "stream",
     "text": [
      "ID del video: jlExbCOWEDc\n",
      "Titulo del video: 3 videos que harán que no quieras apagar la luz de noche\n",
      "Fecha de subida: 2022-10-03\n",
      "Vistas: 1950356\n",
      "Likes: 191439\n",
      "Comentarios: 9894\n",
      "\n"
     ]
    },
    {
     "data": {
      "text/html": [
       "<div>\n",
       "<style scoped>\n",
       "    .dataframe tbody tr th:only-of-type {\n",
       "        vertical-align: middle;\n",
       "    }\n",
       "\n",
       "    .dataframe tbody tr th {\n",
       "        vertical-align: top;\n",
       "    }\n",
       "\n",
       "    .dataframe thead th {\n",
       "        text-align: right;\n",
       "    }\n",
       "</style>\n",
       "<table border=\"1\" class=\"dataframe\">\n",
       "  <thead>\n",
       "    <tr style=\"text-align: right;\">\n",
       "      <th></th>\n",
       "      <th>video_id</th>\n",
       "      <th>video_title</th>\n",
       "      <th>upload_date</th>\n",
       "      <th>view_count</th>\n",
       "      <th>like_count</th>\n",
       "      <th>comment_count</th>\n",
       "    </tr>\n",
       "  </thead>\n",
       "  <tbody>\n",
       "    <tr>\n",
       "      <th>0</th>\n",
       "      <td>-USeILTeqDU</td>\n",
       "      <td>Hay algo extraño EN CASA DE SEAN</td>\n",
       "      <td>2023-03-01</td>\n",
       "      <td>182488</td>\n",
       "      <td>27628</td>\n",
       "      <td>2081</td>\n",
       "    </tr>\n",
       "    <tr>\n",
       "      <th>0</th>\n",
       "      <td>lrLZUkSL79A</td>\n",
       "      <td>La destrucción mediática de Michael Jackson</td>\n",
       "      <td>2023-02-26</td>\n",
       "      <td>1197212</td>\n",
       "      <td>107466</td>\n",
       "      <td>4733</td>\n",
       "    </tr>\n",
       "    <tr>\n",
       "      <th>0</th>\n",
       "      <td>9tsrQsOGV4M</td>\n",
       "      <td>7 Personas Históricas Que Vendieron Su Alma Al...</td>\n",
       "      <td>2023-02-24</td>\n",
       "      <td>151079</td>\n",
       "      <td>8149</td>\n",
       "      <td>163</td>\n",
       "    </tr>\n",
       "    <tr>\n",
       "      <th>0</th>\n",
       "      <td>cFlk_Rd1DGg</td>\n",
       "      <td>TOP: Las 7 personas de Twitch más...</td>\n",
       "      <td>2023-02-22</td>\n",
       "      <td>1726384</td>\n",
       "      <td>162552</td>\n",
       "      <td>10606</td>\n",
       "    </tr>\n",
       "    <tr>\n",
       "      <th>0</th>\n",
       "      <td>NjR_bIwIU5s</td>\n",
       "      <td>7 hechos terroríficos que no tienen explicació...</td>\n",
       "      <td>2023-02-20</td>\n",
       "      <td>156956</td>\n",
       "      <td>9052</td>\n",
       "      <td>153</td>\n",
       "    </tr>\n",
       "    <tr>\n",
       "      <th>0</th>\n",
       "      <td>cR1duorFOAU</td>\n",
       "      <td>3 videos para ver con la luz apagada</td>\n",
       "      <td>2023-02-19</td>\n",
       "      <td>1677670</td>\n",
       "      <td>117087</td>\n",
       "      <td>5766</td>\n",
       "    </tr>\n",
       "    <tr>\n",
       "      <th>0</th>\n",
       "      <td>U_phwCcoqCI</td>\n",
       "      <td>Llamando a números de los RED ROOMS</td>\n",
       "      <td>2023-02-16</td>\n",
       "      <td>1307039</td>\n",
       "      <td>92036</td>\n",
       "      <td>3423</td>\n",
       "    </tr>\n",
       "    <tr>\n",
       "      <th>0</th>\n",
       "      <td>V6wNi4KIMZ0</td>\n",
       "      <td>Los 7 secretos más oscuros del Vaticano Dross ...</td>\n",
       "      <td>2023-02-14</td>\n",
       "      <td>178678</td>\n",
       "      <td>9844</td>\n",
       "      <td>174</td>\n",
       "    </tr>\n",
       "    <tr>\n",
       "      <th>0</th>\n",
       "      <td>Oo-LwX7nGPw</td>\n",
       "      <td>TOP:  7 lugares malditos de Google Maps</td>\n",
       "      <td>2023-02-13</td>\n",
       "      <td>2426940</td>\n",
       "      <td>153627</td>\n",
       "      <td>6001</td>\n",
       "    </tr>\n",
       "    <tr>\n",
       "      <th>0</th>\n",
       "      <td>Eo2_kuYxpIg</td>\n",
       "      <td>3 Videos No Aptos Para Sensibles</td>\n",
       "      <td>2023-02-10</td>\n",
       "      <td>1792032</td>\n",
       "      <td>136026</td>\n",
       "      <td>5151</td>\n",
       "    </tr>\n",
       "  </tbody>\n",
       "</table>\n",
       "</div>"
      ],
      "text/plain": [
       "      video_id                                        video_title upload_date  \\\n",
       "0  -USeILTeqDU                   Hay algo extraño EN CASA DE SEAN  2023-03-01   \n",
       "0  lrLZUkSL79A        La destrucción mediática de Michael Jackson  2023-02-26   \n",
       "0  9tsrQsOGV4M  7 Personas Históricas Que Vendieron Su Alma Al...  2023-02-24   \n",
       "0  cFlk_Rd1DGg               TOP: Las 7 personas de Twitch más...  2023-02-22   \n",
       "0  NjR_bIwIU5s  7 hechos terroríficos que no tienen explicació...  2023-02-20   \n",
       "0  cR1duorFOAU               3 videos para ver con la luz apagada  2023-02-19   \n",
       "0  U_phwCcoqCI                Llamando a números de los RED ROOMS  2023-02-16   \n",
       "0  V6wNi4KIMZ0  Los 7 secretos más oscuros del Vaticano Dross ...  2023-02-14   \n",
       "0  Oo-LwX7nGPw            TOP:  7 lugares malditos de Google Maps  2023-02-13   \n",
       "0  Eo2_kuYxpIg                   3 Videos No Aptos Para Sensibles  2023-02-10   \n",
       "\n",
       "  view_count like_count comment_count  \n",
       "0     182488      27628          2081  \n",
       "0    1197212     107466          4733  \n",
       "0     151079       8149           163  \n",
       "0    1726384     162552         10606  \n",
       "0     156956       9052           153  \n",
       "0    1677670     117087          5766  \n",
       "0    1307039      92036          3423  \n",
       "0     178678       9844           174  \n",
       "0    2426940     153627          6001  \n",
       "0    1792032     136026          5151  "
      ]
     },
     "execution_count": 24,
     "metadata": {},
     "output_type": "execute_result"
    }
   ],
   "source": [
    "for info_video in response['items']:\n",
    "    # Verificamos que todos los resultados sean videos\n",
    "    if info_video['id']['kind'] == 'youtube#video':\n",
    "        video_id = info_video['id']['videoId']\n",
    "\n",
    "        video_title = info_video['snippet']['title']\n",
    "        video_title = str(video_title).replace('&amp;', '')\n",
    "\n",
    "        upload_date = info_video['snippet']['publishedAt']\n",
    "        upload_date = str(upload_date).split('T')[0]\n",
    "        \n",
    "        url_video_stats = \"https://www.googleapis.com/youtube/v3/videos?id=\"+video_id+\"&part=statistics&key=\"+API_KEY\n",
    "        response_video_stats = requests.get(url_video_stats).json()\n",
    "        \n",
    "        view_count = response_video_stats['items'][0]['statistics']['viewCount']\n",
    "        like_count = response_video_stats['items'][0]['statistics']['likeCount']\n",
    "        comment_count = response_video_stats['items'][0]['statistics']['commentCount']\n",
    "        \n",
    "        column = pd.DataFrame([[video_id, video_title, upload_date,\n",
    "                               view_count, like_count, comment_count]],\n",
    "                              columns=['video_id', 'video_title', 'upload_date',\n",
    "                                       'view_count', 'like_count', 'comment_count'])\n",
    "        \n",
    "        dataframe = pd.concat([dataframe, column])\n",
    "        \n",
    "\n",
    "print(f'''ID del video: {video_id}\n",
    "Titulo del video: {video_title}\n",
    "Fecha de subida: {upload_date}\n",
    "Vistas: {view_count}\n",
    "Likes: {like_count}\n",
    "Comentarios: {comment_count}\\n''')\n",
    "\n",
    "dataframe.head(10)\n"
   ]
  },
  {
   "cell_type": "code",
   "execution_count": 60,
   "metadata": {},
   "outputs": [],
   "source": [
    "video_id = '-USeILTeqDU'"
   ]
  },
  {
   "cell_type": "code",
   "execution_count": 45,
   "metadata": {},
   "outputs": [
    {
     "data": {
      "text/plain": [
       "{'kind': 'youtube#videoListResponse',\n",
       " 'etag': 'UZ7C-c8x8eaA_jKkCDtVz4jbJjE',\n",
       " 'items': [{'kind': 'youtube#video',\n",
       "   'etag': 'G3TGpFW45DH9pD8yQp_RbY4UDFQ',\n",
       "   'id': '-USeILTeqDU',\n",
       "   'snippet': {'publishedAt': '2023-03-01T01:00:03Z',\n",
       "    'channelId': 'UCNYW2vfGrUE6R5mIJYzkRyQ',\n",
       "    'title': 'Hay algo extraño EN CASA DE SEAN',\n",
       "    'description': 'http://bit.ly/1a1sm3k \\n#dross',\n",
       "    'thumbnails': {'default': {'url': 'https://i.ytimg.com/vi/-USeILTeqDU/default.jpg',\n",
       "      'width': 120,\n",
       "      'height': 90},\n",
       "     'medium': {'url': 'https://i.ytimg.com/vi/-USeILTeqDU/mqdefault.jpg',\n",
       "      'width': 320,\n",
       "      'height': 180},\n",
       "     'high': {'url': 'https://i.ytimg.com/vi/-USeILTeqDU/hqdefault.jpg',\n",
       "      'width': 480,\n",
       "      'height': 360},\n",
       "     'standard': {'url': 'https://i.ytimg.com/vi/-USeILTeqDU/sddefault.jpg',\n",
       "      'width': 640,\n",
       "      'height': 480},\n",
       "     'maxres': {'url': 'https://i.ytimg.com/vi/-USeILTeqDU/maxresdefault.jpg',\n",
       "      'width': 1280,\n",
       "      'height': 720}},\n",
       "    'channelTitle': 'DrossRotzank',\n",
       "    'tags': ['dross',\n",
       "     'drossrotzank',\n",
       "     'horror',\n",
       "     'miedo',\n",
       "     'creepypasta',\n",
       "     'angel david revilla',\n",
       "     'angel revilla',\n",
       "     'monstruo',\n",
       "     'creepy',\n",
       "     'gracioso',\n",
       "     'funny',\n",
       "     'chistoso',\n",
       "     'humor',\n",
       "     'reflexion',\n",
       "     'analogico',\n",
       "     'historias de terror'],\n",
       "    'categoryId': '24',\n",
       "    'liveBroadcastContent': 'none',\n",
       "    'defaultLanguage': 'es-419',\n",
       "    'localized': {'title': 'Hay algo extraño EN CASA DE SEAN',\n",
       "     'description': 'http://bit.ly/1a1sm3k \\n#dross'},\n",
       "    'defaultAudioLanguage': 'en'}}],\n",
       " 'pageInfo': {'totalResults': 1, 'resultsPerPage': 1}}"
      ]
     },
     "execution_count": 45,
     "metadata": {},
     "output_type": "execute_result"
    }
   ],
   "source": [
    "url = \"https://youtube.googleapis.com/youtube/v3/videos?part=snippet&id=\"+video_id+'&key='+API_KEY\n",
    "response = requests.get(url=url).json()\n",
    "response"
   ]
  },
  {
   "cell_type": "code",
   "execution_count": 71,
   "metadata": {},
   "outputs": [
    {
     "name": "stdout",
     "output_type": "stream",
     "text": [
      "-USeILTeqDU\n",
      "Hay algo extraño EN CASA DE SEAN\n",
      "2023-03-01\n",
      "271747\n",
      "35193\n",
      "2463\n"
     ]
    }
   ],
   "source": [
    "url = \"https://youtube.googleapis.com/youtube/v3/videos?part=snippet&id=\"+video_id+'&key='+API_KEY\n",
    "response = requests.get(url=url).json()\n",
    "\n",
    "video_title = response['items'][0]['snippet']['title']\n",
    "video_title = str(video_title).replace('&amp;', '')\n",
    "\n",
    "upload_date = response['items'][0]['snippet']['publishedAt']\n",
    "upload_date = str(upload_date).split('T')[0]\n",
    "\n",
    "url = \"https://www.googleapis.com/youtube/v3/videos?id=\"+video_id+\"&part=statistics&key=\"+API_KEY\n",
    "response = requests.get(url=url).json()\n",
    "\n",
    "view_count = response['items'][0]['statistics']['viewCount']\n",
    "like_count = response['items'][0]['statistics']['likeCount']\n",
    "comment_count = response['items'][0]['statistics']['commentCount']\n",
    "\n",
    "print(video_id)\n",
    "print(video_title)\n",
    "print(upload_date)\n",
    "print(view_count)\n",
    "print(like_count)\n",
    "print(comment_count)\n",
    "\n",
    "#print(response['items'][0]['snippet']['title'])\n",
    "#print(response['items'][0]['snippet']['publishedAt'])"
   ]
  },
  {
   "cell_type": "code",
   "execution_count": null,
   "metadata": {},
   "outputs": [],
   "source": [
    "# In progress is up\n",
    "\n",
    "def get_video_details(video_id):\n",
    "    url = \"https://www.googleapis.com/youtube/v3/videos?id=\"+video_id+\"&part=statistics&key=\"+API_KEY\n",
    "    \n",
    "    response = requests.get(url=url).json()\n",
    "    \n",
    "    column = pd.DataFrame([[video_id, video_title, upload_date,\n",
    "                               view_count, like_count, comment_count]],\n",
    "                              columns=[video_id, 'video_title', 'upload_date',\n",
    "                                       'view_count', 'like_count', 'comment_count'])\n",
    "    \n",
    "    return pd.DataFrame([[response['items'][0]['st']]],\n",
    "                        columns=['video_id', 'video_title', 'upload_date',\n",
    "                                       'view_count', 'like_count', 'comment_count'])"
   ]
  }
 ],
 "metadata": {
  "kernelspec": {
   "display_name": "venv",
   "language": "python",
   "name": "python3"
  },
  "language_info": {
   "codemirror_mode": {
    "name": "ipython",
    "version": 3
   },
   "file_extension": ".py",
   "mimetype": "text/x-python",
   "name": "python",
   "nbconvert_exporter": "python",
   "pygments_lexer": "ipython3",
   "version": "3.10.6"
  },
  "orig_nbformat": 4,
  "vscode": {
   "interpreter": {
    "hash": "325a8389951b364615fbcd239229511685fac336d392465388ba66be57876462"
   }
  }
 },
 "nbformat": 4,
 "nbformat_minor": 2
}
